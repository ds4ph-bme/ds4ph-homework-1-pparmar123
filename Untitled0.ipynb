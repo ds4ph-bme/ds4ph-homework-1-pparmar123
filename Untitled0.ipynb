{
  "nbformat": 4,
  "nbformat_minor": 0,
  "metadata": {
    "colab": {
      "name": "Untitled0.ipynb",
      "provenance": [],
      "collapsed_sections": []
    },
    "kernelspec": {
      "name": "python3",
      "display_name": "Python 3"
    },
    "language_info": {
      "name": "python"
    }
  },
  "cells": [
    {
      "cell_type": "markdown",
      "source": [
        "Adding numbers - HW 1 Pritika Parmar"
      ],
      "metadata": {
        "id": "BjB5r8aR9HCa"
      }
    },
    {
      "cell_type": "code",
      "source": [
        "a=4\n",
        "b=4\n",
        "c=a+b\n",
        "print(c)"
      ],
      "metadata": {
        "colab": {
          "base_uri": "https://localhost:8080/"
        },
        "id": "kkQPt1b39Wfx",
        "outputId": "df661013-6d2c-4326-9a07-eef0313d41d2"
      },
      "execution_count": 1,
      "outputs": [
        {
          "output_type": "stream",
          "name": "stdout",
          "text": [
            "8\n"
          ]
        }
      ]
    }
  ]
}